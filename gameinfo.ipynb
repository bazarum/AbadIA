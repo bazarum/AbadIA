{
  "nbformat": 4,
  "nbformat_minor": 0,
  "metadata": {
    "colab": {
      "name": "gameinfo.ipynb",
      "version": "0.3.2",
      "provenance": [],
      "private_outputs": true,
      "collapsed_sections": [],
      "include_colab_link": true
    },
    "kernelspec": {
      "name": "python3",
      "display_name": "Python 3"
    }
  },
  "cells": [
    {
      "cell_type": "markdown",
      "metadata": {
        "id": "view-in-github",
        "colab_type": "text"
      },
      "source": [
        "[View in Colaboratory](https://colab.research.google.com/github/bazarum/AbadIA/blob/master/gameinfo.ipynb)"
      ]
    },
    {
      "metadata": {
        "id": "Pi8wEGXVm4CP",
        "colab_type": "code",
        "colab": {}
      },
      "cell_type": "code",
      "source": [
        "from google.cloud import storage\n",
        "import pandas as pd\n",
        "from io import BytesIO\n",
        "from google.colab import auth\n",
        "import fnmatch\n"
      ],
      "execution_count": 0,
      "outputs": []
    },
    {
      "metadata": {
        "id": "RNnNB7C0CkcD",
        "colab_type": "code",
        "colab": {}
      },
      "cell_type": "code",
      "source": [
        "auth.authenticate_user()\n",
        "\n",
        "project_id = 'abadia-1'\n",
        "\n",
        "client = storage.Client(project='abadia-1')\n",
        "bucket = client.get_bucket('abadia-data')\n",
        "\n",
        "\n"
      ],
      "execution_count": 0,
      "outputs": []
    },
    {
      "metadata": {
        "id": "cLK56bNACo-4",
        "colab_type": "code",
        "colab": {}
      },
      "cell_type": "code",
      "source": [
        "df_list = []\n",
        "object_list = bucket.list_blobs()\n",
        "\n",
        "for object in object_list:\n",
        "  \n",
        "  if fnmatch.fnmatch(object.name, '*abadia_game*'):\n",
        "    # print(\"object {}\".format(object.name))\n",
        "  \n",
        "  \n",
        "    blob = bucket.get_blob(object.name)\n",
        "    content = blob.download_as_string()\n",
        "    print(\"({})\".format(content))\n",
        "    if (content != b''):\n",
        "      line = str(content).split('\\\\n')\n",
        "      # print(line)\n",
        "      my_df = pd.read_json(content, lines=True)  \n",
        "      # %gcs read --object $object.uri --variable data  \n",
        "      df_list.append(my_df)\n",
        "\n",
        "concatenated_df = pd.concat(df_list, ignore_index=True)\n",
        "concatenated_df.head()"
      ],
      "execution_count": 0,
      "outputs": []
    },
    {
      "metadata": {
        "id": "SP3-UClm5_cA",
        "colab_type": "code",
        "colab": {}
      },
      "cell_type": "code",
      "source": [
        "concatenated_df.head()\n"
      ],
      "execution_count": 0,
      "outputs": []
    },
    {
      "metadata": {
        "id": "fbMJEedt8EzG",
        "colab_type": "code",
        "colab": {}
      },
      "cell_type": "code",
      "source": [
        ""
      ],
      "execution_count": 0,
      "outputs": []
    }
  ]
}