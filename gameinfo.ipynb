{
  "nbformat": 4,
  "nbformat_minor": 0,
  "metadata": {
    "colab": {
      "name": "gameinfo.ipynb",
      "version": "0.3.2",
      "provenance": [],
      "collapsed_sections": [],
      "include_colab_link": true
    },
    "kernelspec": {
      "name": "python3",
      "display_name": "Python 3"
    }
  },
  "cells": [
    {
      "cell_type": "markdown",
      "metadata": {
        "id": "view-in-github",
        "colab_type": "text"
      },
      "source": [
        "[View in Colaboratory](https://colab.research.google.com/github/bazarum/AbadIA/blob/master/gameinfo.ipynb)"
      ]
    },
    {
      "metadata": {
        "id": "Pi8wEGXVm4CP",
        "colab_type": "code",
        "colab": {}
      },
      "cell_type": "code",
      "source": [
        "from google.cloud import storage\n",
        "import pandas as pd\n",
        "from io import BytesIO\n",
        "\n",
        "from google.colab import auth\n",
        "\n",
        "auth.authenticate_user()\n",
        "\n",
        "# https://cloud.google.com/resource-manager/docs/creating-managing-projects\n",
        "project_id = 'abadia-1'\n",
        "client = storage.Client()\n",
        "myBucket = client.Bucket('abadia-data')\n",
        "object_list = myBucket.list_blobs()\n",
        "\n",
        "df_list = []\n",
        "\n",
        "for object in object_list:\n",
        "  print(\"object {}\".format(object))\n",
        "  # %gcs read --object $object.uri --variable data  \n",
        "  # df_list.append(pd.read_csv(BytesIO(data)))\n",
        "\n",
        "# concatenated_df = pd.concat(df_list, ignore_index=True)\n",
        "# concatenated_df.head()"
      ],
      "execution_count": 0,
      "outputs": []
    }
  ]
}